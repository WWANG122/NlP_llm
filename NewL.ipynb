{
 "cells": [
  {
   "cell_type": "code",
   "id": "initial_id",
   "metadata": {
    "collapsed": true,
    "ExecuteTime": {
     "end_time": "2024-09-28T08:18:20.166359Z",
     "start_time": "2024-09-28T08:18:20.161373Z"
    }
   },
   "source": [
    "nums = [1, 2, 2, 3, 4, 4, 4, 5]\n",
    "\n",
    "# 假设我们想要打印出数组中的唯一元素\n",
    "for i in range(len(nums)):\n",
    "    left = i+1\n",
    "    right = len(nums)-1\n",
    "    print(left)\n",
    "\n",
    "\n",
    "    "
   ],
   "outputs": [
    {
     "name": "stdout",
     "output_type": "stream",
     "text": [
      "1\n",
      "2\n",
      "3\n",
      "4\n",
      "5\n",
      "6\n",
      "7\n",
      "8\n"
     ]
    }
   ],
   "execution_count": 4
  },
  {
   "metadata": {},
   "cell_type": "code",
   "outputs": [],
   "execution_count": null,
   "source": [
    "class Solution(object):\n",
    "    def threeSum(self, nums):\n",
    "        \"\"\"\n",
    "        :type nums: List[int]\n",
    "        :rtype: List[List[int]]\n",
    "        \"\"\"\n",
    "\n",
    "        ans = []\n",
    "        nums.sort()\n",
    "        n = len(nums)\n",
    "        for i in range (n):\n",
    "            left = i+1\n",
    "            right = n-1\n",
    "            if nums[i]>0:\n",
    "                break\n",
    "            if i>=1 and nums[i] == nums[i-1]:\n",
    "                continue\n",
    "            while left<right:\n",
    "                total = nums[i]+ nums[left]+nums[right]\n",
    "                if total >0:\n",
    "                    right -=1\n",
    "                elif total <0:\n",
    "                    left +=1\n",
    "                else:\n",
    "                    ans.append([nums[i],nums[left],nums[right]])\n",
    "                    while left !=right and nums[left] == nums[left+1]:\n",
    "                        left+=1\n",
    "                    while left !=right and nums[right] == nums[right-1]:\n",
    "                        right-=1\n",
    "            \n",
    "        return ans\n"
   ],
   "id": "110d5e29a8e73f7d"
  }
 ],
 "metadata": {
  "kernelspec": {
   "display_name": "Python 3",
   "language": "python",
   "name": "python3"
  },
  "language_info": {
   "codemirror_mode": {
    "name": "ipython",
    "version": 2
   },
   "file_extension": ".py",
   "mimetype": "text/x-python",
   "name": "python",
   "nbconvert_exporter": "python",
   "pygments_lexer": "ipython2",
   "version": "2.7.6"
  }
 },
 "nbformat": 4,
 "nbformat_minor": 5
}
